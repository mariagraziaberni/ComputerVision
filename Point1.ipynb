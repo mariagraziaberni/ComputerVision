{
 "cells": [
  {
   "cell_type": "code",
   "execution_count": 1,
   "metadata": {},
   "outputs": [
    {
     "name": "stderr",
     "output_type": "stream",
     "text": [
      "/home/maria/.local/lib/python3.8/site-packages/skimage/io/manage_plugins.py:23: UserWarning: Your installed pillow version is < 8.1.2. Several security issues (CVE-2021-27921, CVE-2021-25290, CVE-2021-25291, CVE-2021-25293, and more) have been fixed in pillow 8.1.2 or higher. We recommend to upgrade this library.\n",
      "  from .collection import imread_collection_wrapper\n"
     ]
    }
   ],
   "source": [
    "import torch\n",
    "from utility import My_Dataset\n",
    "from utility import mean_and_std,get_params_and_gradients_norm\n",
    "import torch.nn as nn \n",
    "import torch.optim as optim \n",
    "import torch.nn.functional as F \n",
    "from torch.utils.data import Dataset #\n",
    "from torch.utils.data import DataLoader\n",
    "import torchvision.datasets as datasets \n",
    "import torchvision.transforms as T\n",
    "from torch.utils.tensorboard import SummaryWriter \n",
    "import numpy as np #\n",
    "from skimage import io #\n",
    "from matplotlib import pyplot as plt"
   ]
  },
  {
   "cell_type": "code",
   "execution_count": 2,
   "metadata": {},
   "outputs": [],
   "source": [
    "import os \n",
    "from sklearn.metrics import confusion_matrix\n",
    "import seaborn as sn\n",
    "import pandas as pd "
   ]
  },
  {
   "cell_type": "code",
   "execution_count": 3,
   "metadata": {},
   "outputs": [],
   "source": [
    "ARCH = [8,'M',16,'M',32,0]   #architecture of the base network "
   ]
  },
  {
   "cell_type": "code",
   "execution_count": 4,
   "metadata": {},
   "outputs": [],
   "source": [
    "class BASE_CNN(nn.Module): \n",
    "    def __init__(self,in_channels = 1, num_classes = 15, architecture = ARCH): \n",
    "        super(BASE_CNN,self).__init__()\n",
    "        self.in_channels = in_channels \n",
    "        self.conv_layers = self.create_conv_layers(architecture)\n",
    "        self.fcs = nn.Sequential(nn.Linear(32*12*12,num_classes))\n",
    "    \n",
    "    def create_conv_layers(self, architecture): \n",
    "        layers = [] \n",
    "        in_channels = self.in_channels \n",
    "        for x in architecture: \n",
    "            if(type(x)==int and x!=0): \n",
    "                out_channels = x \n",
    "                layers += [nn.Conv2d(in_channels=in_channels, out_channels = out_channels, kernel_size=(3,3),\n",
    "                           stride =1, padding = (0,0)),nn.ReLU()]\n",
    "                in_channels = x\n",
    "            elif x =='M': \n",
    "                layers +=[nn.MaxPool2d(kernel_size= (2,2),stride = (2,2))]\n",
    "        return nn.Sequential(*layers)\n",
    "    def initialize_weight(self): \n",
    "        \n",
    "        for m in self.modules():\n",
    "            if isinstance(m,nn.Conv2d):\n",
    "                nn.init.normal_(m.weight, mean=0.0, std=0.01)\n",
    "                if m.bias is not None: \n",
    "                    nn.init.constant_(m.bias,0)\n",
    "            elif isinstance(m,nn.Linear): \n",
    "                nn.init.normal_(m.weight, mean=0.0, std=0.01)\n",
    "                nn.init.constant_(m.bias,0)\n",
    "    def forward(self,x): \n",
    "        x = self.conv_layers(x)\n",
    "        x = x.reshape(x.shape[0],-1)\n",
    "        x = self.fcs(x)\n",
    "        return x"
   ]
  },
  {
   "cell_type": "code",
   "execution_count": 5,
   "metadata": {},
   "outputs": [],
   "source": [
    "mean, std = mean_and_std()"
   ]
  },
  {
   "cell_type": "code",
   "execution_count": 6,
   "metadata": {},
   "outputs": [],
   "source": [
    "transforms = T.Compose([\n",
    "    T.ToTensor(),\n",
    "    T.Normalize([mean], [std]),\n",
    "])\n"
   ]
  },
  {
   "cell_type": "code",
   "execution_count": 12,
   "metadata": {},
   "outputs": [],
   "source": [
    "learning_rate = 0.01\n",
    "batch_size = 32 "
   ]
  },
  {
   "cell_type": "code",
   "execution_count": 13,
   "metadata": {},
   "outputs": [],
   "source": [
    "dataset = My_Dataset(root = \"train\", transform = transforms)"
   ]
  },
  {
   "cell_type": "code",
   "execution_count": 14,
   "metadata": {},
   "outputs": [],
   "source": [
    "train_number = int(len(dataset)*0.85)\n",
    "val_number = len(dataset)-train_number"
   ]
  },
  {
   "cell_type": "code",
   "execution_count": 15,
   "metadata": {},
   "outputs": [],
   "source": [
    "train_set, val_set = torch.utils.data.random_split(dataset,[train_number,val_number]) "
   ]
  },
  {
   "cell_type": "code",
   "execution_count": 16,
   "metadata": {},
   "outputs": [],
   "source": [
    "train_loader = DataLoader(dataset = train_set, batch_size=batch_size, shuffle=True )\n",
    "val_loader = DataLoader(dataset = val_set, batch_size=64, shuffle=False )"
   ]
  },
  {
   "cell_type": "code",
   "execution_count": 17,
   "metadata": {},
   "outputs": [],
   "source": [
    "device =torch.device('cuda' if torch.cuda.is_available() else 'cpu')"
   ]
  },
  {
   "cell_type": "code",
   "execution_count": 20,
   "metadata": {},
   "outputs": [],
   "source": [
    "device =\"cpu\""
   ]
  },
  {
   "cell_type": "code",
   "execution_count": 21,
   "metadata": {},
   "outputs": [],
   "source": [
    "model = BASE_CNN(1,15).to(device)\n",
    "model.initialize_weight() "
   ]
  },
  {
   "cell_type": "code",
   "execution_count": 22,
   "metadata": {},
   "outputs": [],
   "source": [
    "optimizer = optim.SGD(model.parameters(),lr = learning_rate)\n",
    "criterion = nn.CrossEntropyLoss() "
   ]
  },
  {
   "cell_type": "code",
   "execution_count": 23,
   "metadata": {},
   "outputs": [],
   "source": [
    "writer_1 = SummaryWriter(f'runs/MODEL_1')\n",
    "trajectory_1 = {\"parameters\": [], \"gradients\": []}\n",
    "step = 0"
   ]
  },
  {
   "cell_type": "code",
   "execution_count": 24,
   "metadata": {},
   "outputs": [],
   "source": [
    "def train_model(model, num_epochs, train_loader, criterion, optimizer,writer,step = 0,trajectory=None, weights_check = False): \n",
    "   # global step = step\n",
    "    for epoch in range(num_epochs): \n",
    "        step+=1\n",
    "        losses = []\n",
    "        accuracy =[]\n",
    "        if(weights_check):\n",
    "            writer.add_histogram('conv_1',model.conv_layers[0].weight, epoch)\n",
    "            writer.add_histogram('bias_1',model.conv_layers[0].bias, epoch)\n",
    "            writer.add_histogram('conv_2',model.conv_layers[3].weight,epoch)\n",
    "            writer.add_histogram('bias_2',model.conv_layers[3].bias,epoch)\n",
    "            writer.add_histogram('conv_3',model.conv_layers[6].weight,epoch)\n",
    "            writer.add_histogram('bias_3',model.conv_layers[6].bias,epoch)\n",
    "            writer.add_histogram('fcs',model.fcs[0].weight,epoch)\n",
    "            writer.add_histogram('fcs_bias',model.fcs[0].bias,epoch)\n",
    "        for _, (data,targets) in enumerate(train_loader): \n",
    "            data = data.to(device)\n",
    "            targets = targets.to(device)\n",
    "            scores = model(data)\n",
    "            loss = criterion(scores,targets)\n",
    "            losses.append(loss.item())\n",
    "            optimizer.zero_grad()\n",
    "            loss.backward() \n",
    "            optimizer.step() \n",
    "            _, pred = scores.max(1) \n",
    "            num_correct = (pred==targets).sum() \n",
    "            running_train_acc = float(num_correct)/(float(data.shape[0]))\n",
    "            accuracy.append(running_train_acc)\n",
    "        mean_loss = np.mean(np.asarray(losses))\n",
    "        mean_accuracy = np.mean(np.asarray(accuracy))\n",
    "        writer.add_scalar('Training Loss',mean_loss,global_step =step)\n",
    "        writer.add_scalar('Training_accuracy',running_train_acc,global_step=step)\n",
    "        if (trajectory!=None): \n",
    "            \n",
    "            params_norm, gradients_norm = get_params_and_gradients_norm(model.named_parameters())\n",
    "            trajectory[\"parameters\"].append(params_norm)\n",
    "            trajectory[\"gradients\"].append(gradients_norm)\n",
    "        #step+=1        \n",
    "                \n",
    "                 "
   ]
  },
  {
   "cell_type": "code",
   "execution_count": 18,
   "metadata": {},
   "outputs": [],
   "source": [
    "_ = model.train()\n",
    "train_model(model,40, train_loader, criterion, optimizer,  writer=writer_1,step =0,trajectory=trajectory_1, weights_check = True)"
   ]
  },
  {
   "cell_type": "code",
   "execution_count": 19,
   "metadata": {},
   "outputs": [],
   "source": [
    "def plot_trajectory(trajectory, ylim=(0,9)):\n",
    "    fig, (ax1, ax2) = plt.subplots(1,2, sharey=True)\n",
    "    ax1.set_ylim(*ylim)\n",
    "    ax1.plot(trajectory[\"parameters\"])\n",
    "    ax1.set_title(\"Norm of parameters\")\n",
    "    ax2.plot(trajectory[\"gradients\"])\n",
    "    ax2.set_title(\"Norm of gradients\")\n",
    "    plt.show()"
   ]
  },
  {
   "cell_type": "code",
   "execution_count": null,
   "metadata": {},
   "outputs": [],
   "source": []
  },
  {
   "cell_type": "raw",
   "metadata": {},
   "source": [
    "plot_trajectory(trajectory_1,ylim=(0,5))"
   ]
  },
  {
   "cell_type": "code",
   "execution_count": 31,
   "metadata": {},
   "outputs": [],
   "source": [
    "#It seems that the model does not work well \n",
    "#I try to overfit a single batch "
   ]
  },
  {
   "cell_type": "code",
   "execution_count": null,
   "metadata": {},
   "outputs": [],
   "source": []
  },
  {
   "cell_type": "code",
   "execution_count": 25,
   "metadata": {},
   "outputs": [],
   "source": [
    "def overfit_single_batch(data, targets, model, criterion, writer, trajectory, num_epochs=3001):\n",
    "    model.train() \n",
    "    loss = 0\n",
    "    step = 0 \n",
    "    epoch=0\n",
    "    data = data.to(device)\n",
    "    targets = targets.to(device)\n",
    "    for epoch in range(num_epochs): \n",
    "        step+=1\n",
    "        if ((epoch)%100)==0: \n",
    "            print(f\"Epoch [{epoch+1}/{num_epochs}]\")\n",
    "            writer.add_histogram('conv_1',model.conv_layers[0].weight, epoch)\n",
    "            writer.add_histogram('bias_1',model.conv_layers[0].bias, epoch)\n",
    "            writer.add_histogram('conv_2',model.conv_layers[3].weight,epoch)\n",
    "            writer.add_histogram('bias_2',model.conv_layers[3].bias,epoch)\n",
    "            writer.add_histogram('conv_3',model.conv_layers[6].weight,epoch)\n",
    "            writer.add_histogram('bias_3',model.conv_layers[6].bias,epoch)\n",
    "            writer.add_histogram('fcs',model.fcs[0].weight,epoch)\n",
    "            writer.add_histogram('fcs_bias',model.fcs[0].bias,epoch)\n",
    "            print(loss)\n",
    "        \n",
    "        scores = model(data)\n",
    "        loss = criterion(scores, targets)\n",
    "        \n",
    "        optimizer.zero_grad() \n",
    "        loss.backward() \n",
    "        optimizer.step() \n",
    "        \n",
    "        _, pred = scores.max(1) \n",
    "        num_correct = (pred==targets).sum() \n",
    "        running_train_acc = float(num_correct)/(float(data.shape[0]))\n",
    "        writer.add_scalar('Training Loss',loss,global_step = step)\n",
    "        writer.add_scalar('Training_accuracy',running_train_acc,global_step=step)\n",
    "        params_norm, gradients_norm = get_params_and_gradients_norm(model.named_parameters())\n",
    "        trajectory[\"parameters\"].append(params_norm)\n",
    "        trajectory[\"gradients\"].append(gradients_norm)\n",
    "        \n",
    "    \n",
    "    "
   ]
  },
  {
   "cell_type": "code",
   "execution_count": 200,
   "metadata": {},
   "outputs": [],
   "source": [
    "model = BASE_CNN(1,15).to(device)\n",
    "model.initialize_weight() \n",
    "optimizer = optim.SGD(model.parameters(),lr = learning_rate)\n",
    "criterion = nn.CrossEntropyLoss() "
   ]
  },
  {
   "cell_type": "code",
   "execution_count": 201,
   "metadata": {},
   "outputs": [],
   "source": [
    "#select just one batch \n",
    "data, targets = next(iter(train_loader))"
   ]
  },
  {
   "cell_type": "code",
   "execution_count": 202,
   "metadata": {},
   "outputs": [],
   "source": [
    "writer_2 = SummaryWriter(f'runs/MODEL_2')\n",
    "trajectory_2 = {\"parameters\": [], \"gradients\": []}"
   ]
  },
  {
   "cell_type": "code",
   "execution_count": 203,
   "metadata": {},
   "outputs": [
    {
     "name": "stdout",
     "output_type": "stream",
     "text": [
      "Epoch [1/3001]\n",
      "0\n",
      "Epoch [101/3001]\n",
      "tensor(2.6553, grad_fn=<NllLossBackward0>)\n",
      "Epoch [201/3001]\n",
      "tensor(2.5196, grad_fn=<NllLossBackward0>)\n",
      "Epoch [301/3001]\n",
      "tensor(2.5003, grad_fn=<NllLossBackward0>)\n",
      "Epoch [401/3001]\n",
      "tensor(2.4959, grad_fn=<NllLossBackward0>)\n",
      "Epoch [501/3001]\n",
      "tensor(2.4937, grad_fn=<NllLossBackward0>)\n",
      "Epoch [601/3001]\n",
      "tensor(2.4922, grad_fn=<NllLossBackward0>)\n",
      "Epoch [701/3001]\n",
      "tensor(2.4912, grad_fn=<NllLossBackward0>)\n",
      "Epoch [801/3001]\n",
      "tensor(2.4905, grad_fn=<NllLossBackward0>)\n",
      "Epoch [901/3001]\n",
      "tensor(2.4898, grad_fn=<NllLossBackward0>)\n",
      "Epoch [1001/3001]\n",
      "tensor(2.4892, grad_fn=<NllLossBackward0>)\n",
      "Epoch [1101/3001]\n",
      "tensor(2.4885, grad_fn=<NllLossBackward0>)\n",
      "Epoch [1201/3001]\n",
      "tensor(2.4876, grad_fn=<NllLossBackward0>)\n",
      "Epoch [1301/3001]\n",
      "tensor(2.4863, grad_fn=<NllLossBackward0>)\n",
      "Epoch [1401/3001]\n",
      "tensor(2.4840, grad_fn=<NllLossBackward0>)\n",
      "Epoch [1501/3001]\n",
      "tensor(2.4789, grad_fn=<NllLossBackward0>)\n",
      "Epoch [1601/3001]\n",
      "tensor(2.4626, grad_fn=<NllLossBackward0>)\n",
      "Epoch [1701/3001]\n",
      "tensor(2.3479, grad_fn=<NllLossBackward0>)\n",
      "Epoch [1801/3001]\n",
      "tensor(0.8946, grad_fn=<NllLossBackward0>)\n",
      "Epoch [1901/3001]\n",
      "tensor(0.0511, grad_fn=<NllLossBackward0>)\n",
      "Epoch [2001/3001]\n",
      "tensor(0.0151, grad_fn=<NllLossBackward0>)\n",
      "Epoch [2101/3001]\n",
      "tensor(0.0079, grad_fn=<NllLossBackward0>)\n",
      "Epoch [2201/3001]\n",
      "tensor(0.0051, grad_fn=<NllLossBackward0>)\n",
      "Epoch [2301/3001]\n",
      "tensor(0.0037, grad_fn=<NllLossBackward0>)\n",
      "Epoch [2401/3001]\n",
      "tensor(0.0028, grad_fn=<NllLossBackward0>)\n",
      "Epoch [2501/3001]\n",
      "tensor(0.0023, grad_fn=<NllLossBackward0>)\n",
      "Epoch [2601/3001]\n",
      "tensor(0.0019, grad_fn=<NllLossBackward0>)\n",
      "Epoch [2701/3001]\n",
      "tensor(0.0016, grad_fn=<NllLossBackward0>)\n",
      "Epoch [2801/3001]\n",
      "tensor(0.0014, grad_fn=<NllLossBackward0>)\n",
      "Epoch [2901/3001]\n",
      "tensor(0.0012, grad_fn=<NllLossBackward0>)\n",
      "Epoch [3001/3001]\n",
      "tensor(0.0011, grad_fn=<NllLossBackward0>)\n"
     ]
    }
   ],
   "source": [
    "overfit_single_batch(data,targets,model,criterion,writer_2,trajectory_2)"
   ]
  },
  {
   "cell_type": "code",
   "execution_count": 204,
   "metadata": {},
   "outputs": [
    {
     "data": {
      "image/png": "[encoded data removed]",
      "text/plain": [
       "<Figure size 432x288 with 2 Axes>"
      ]
     },
     "metadata": {
      "needs_background": "light"
     },
     "output_type": "display_data"
    }
   ],
   "source": [
    "plot_trajectory(trajectory_2)"
   ]
  },
  {
   "cell_type": "code",
   "execution_count": 41,
   "metadata": {},
   "outputs": [],
   "source": [
    "#But there is an explosion of the gradient \n",
    "#Sometimes is not even capable to overfit a single batch, the only way to avoid this problem \n",
    "#is using a balanced batch or weighting the loss \n"
   ]
  },
  {
   "cell_type": "code",
   "execution_count": 26,
   "metadata": {},
   "outputs": [],
   "source": [
    "new_dataset = My_Dataset(root =\"bilanciato\",transform = transforms)\n",
    "new_train_loader = DataLoader(dataset = new_dataset, batch_size=15, shuffle=True )\n",
    "data, targets = next(iter(new_train_loader))"
   ]
  },
  {
   "cell_type": "code",
   "execution_count": 27,
   "metadata": {},
   "outputs": [],
   "source": [
    "model = BASE_CNN(1,15).to(device)\n",
    "model.initialize_weight() \n",
    "optimizer = optim.SGD(model.parameters(),lr =0.01)\n",
    "criterion = nn.CrossEntropyLoss() "
   ]
  },
  {
   "cell_type": "code",
   "execution_count": 28,
   "metadata": {},
   "outputs": [],
   "source": [
    "writer_3 = SummaryWriter(f'runs/MODEL_3')\n",
    "trajectory_3 = {\"parameters\": [], \"gradients\": []}"
   ]
  },
  {
   "cell_type": "code",
   "execution_count": 29,
   "metadata": {},
   "outputs": [
    {
     "name": "stdout",
     "output_type": "stream",
     "text": [
      "Epoch [1/3001]\n",
      "0\n",
      "Epoch [101/3001]\n",
      "tensor(2.7079, grad_fn=<NllLossBackward0>)\n",
      "Epoch [201/3001]\n",
      "tensor(2.7079, grad_fn=<NllLossBackward0>)\n",
      "Epoch [301/3001]\n",
      "tensor(2.7078, grad_fn=<NllLossBackward0>)\n",
      "Epoch [401/3001]\n",
      "tensor(2.7078, grad_fn=<NllLossBackward0>)\n",
      "Epoch [501/3001]\n",
      "tensor(2.7076, grad_fn=<NllLossBackward0>)\n",
      "Epoch [601/3001]\n",
      "tensor(2.7073, grad_fn=<NllLossBackward0>)\n",
      "Epoch [701/3001]\n",
      "tensor(2.7067, grad_fn=<NllLossBackward0>)\n",
      "Epoch [801/3001]\n",
      "tensor(2.7050, grad_fn=<NllLossBackward0>)\n",
      "Epoch [901/3001]\n",
      "tensor(2.6936, grad_fn=<NllLossBackward0>)\n",
      "Epoch [1001/3001]\n",
      "tensor(0.3562, grad_fn=<NllLossBackward0>)\n",
      "Epoch [1101/3001]\n",
      "tensor(0.0056, grad_fn=<NllLossBackward0>)\n",
      "Epoch [1201/3001]\n",
      "tensor(0.0021, grad_fn=<NllLossBackward0>)\n",
      "Epoch [1301/3001]\n",
      "tensor(0.0012, grad_fn=<NllLossBackward0>)\n",
      "Epoch [1401/3001]\n",
      "tensor(0.0008, grad_fn=<NllLossBackward0>)\n",
      "Epoch [1501/3001]\n",
      "tensor(0.0006, grad_fn=<NllLossBackward0>)\n",
      "Epoch [1601/3001]\n",
      "tensor(0.0005, grad_fn=<NllLossBackward0>)\n",
      "Epoch [1701/3001]\n",
      "tensor(0.0004, grad_fn=<NllLossBackward0>)\n",
      "Epoch [1801/3001]\n",
      "tensor(0.0003, grad_fn=<NllLossBackward0>)\n",
      "Epoch [1901/3001]\n",
      "tensor(0.0003, grad_fn=<NllLossBackward0>)\n",
      "Epoch [2001/3001]\n",
      "tensor(0.0003, grad_fn=<NllLossBackward0>)\n",
      "Epoch [2101/3001]\n",
      "tensor(0.0002, grad_fn=<NllLossBackward0>)\n",
      "Epoch [2201/3001]\n",
      "tensor(0.0002, grad_fn=<NllLossBackward0>)\n",
      "Epoch [2301/3001]\n",
      "tensor(0.0002, grad_fn=<NllLossBackward0>)\n",
      "Epoch [2401/3001]\n",
      "tensor(0.0002, grad_fn=<NllLossBackward0>)\n",
      "Epoch [2501/3001]\n",
      "tensor(0.0002, grad_fn=<NllLossBackward0>)\n",
      "Epoch [2601/3001]\n",
      "tensor(0.0001, grad_fn=<NllLossBackward0>)\n",
      "Epoch [2701/3001]\n",
      "tensor(0.0001, grad_fn=<NllLossBackward0>)\n",
      "Epoch [2801/3001]\n",
      "tensor(0.0001, grad_fn=<NllLossBackward0>)\n",
      "Epoch [2901/3001]\n",
      "tensor(0.0001, grad_fn=<NllLossBackward0>)\n",
      "Epoch [3001/3001]\n",
      "tensor(0.0001, grad_fn=<NllLossBackward0>)\n"
     ]
    }
   ],
   "source": [
    "overfit_single_batch(data,targets,model,criterion,writer_3,trajectory_3)"
   ]
  },
  {
   "cell_type": "code",
   "execution_count": 167,
   "metadata": {},
   "outputs": [
    {
     "data": {
      "image/png": "[encoded data removed]",
      "text/plain": [
       "<Figure size 432x288 with 2 Axes>"
      ]
     },
     "metadata": {
      "needs_background": "light"
     },
     "output_type": "display_data"
    }
   ],
   "source": [
    "plot_trajectory(trajectory_3)"
   ]
  },
  {
   "cell_type": "code",
   "execution_count": 80,
   "metadata": {},
   "outputs": [],
   "source": [
    "#I use this like a weight initializer and then I train the model on the whole data set \n",
    "#so a save the state dict of the model "
   ]
  },
  {
   "cell_type": "code",
   "execution_count": 168,
   "metadata": {},
   "outputs": [],
   "source": [
    "FIRST_PATH = \"init_model.py\"\n",
    "torch.save({\n",
    "            'parameters':model.state_dict()\n",
    "        },FIRST_PATH)"
   ]
  },
  {
   "cell_type": "code",
   "execution_count": 169,
   "metadata": {},
   "outputs": [],
   "source": [
    "#to train the model I use early stopping, which is not implemented in pytorch \n",
    "#so I implemented by myself "
   ]
  },
  {
   "cell_type": "code",
   "execution_count": 30,
   "metadata": {},
   "outputs": [],
   "source": [
    "def validation(model, val_loader, criterion): \n",
    "    losses = []\n",
    "    num_correct = 0\n",
    "    num_samples = 0\n",
    "    with torch.no_grad(): \n",
    "        for _, (data,targets) in enumerate(val_loader): \n",
    "            data = data.to(device)\n",
    "            targets = targets.to(device)\n",
    "            scores = model(data) \n",
    "            loss = criterion(scores,targets)\n",
    "            losses.append(loss.item())\n",
    "            _, pred = scores.max(1)\n",
    "            num_correct += (pred==targets).sum() \n",
    "            num_samples += pred.size(0) \n",
    "    \n",
    "    mean_loss = np.mean(np.asarray(losses))\n",
    "    accuracy = float(num_correct)/float(num_samples)*100\n",
    "    return accuracy ,mean_loss\n",
    "             "
   ]
  },
  {
   "cell_type": "code",
   "execution_count": 31,
   "metadata": {},
   "outputs": [],
   "source": [
    "def early_stopping(PATH,first_epochs,model,train_loader,val_loader, criterion, optimizer,writer,max_epochs,patience=20): \n",
    "    model.train() \n",
    "\n",
    "    step = 0\n",
    "    train_model(model, first_epochs, train_loader, criterion, optimizer, writer,step)\n",
    "    model.eval()\n",
    "\n",
    "    accuracy_new,loss = validation(model, val_loader, nn.CrossEntropyLoss())\n",
    "    step+=first_epochs\n",
    "    writer.add_scalar('Validation_accuracy',accuracy_new,step)\n",
    "    writer.add_scalar('Validation_loss',loss,global_step=step)\n",
    "    \n",
    "\n",
    "   \n",
    "    while(step<=max_epochs+1): #there is one more epoch to save the model\n",
    "        \n",
    "        \n",
    "       \n",
    "        torch.save({\n",
    "            'parameters':model.state_dict()\n",
    "        },PATH)\n",
    "        \n",
    "        accuracy_old = accuracy_new \n",
    "        count=0\n",
    "        \n",
    "        accuracy_new = 0\n",
    "        \n",
    "        while(accuracy_new<accuracy_old and count<patience): \n",
    "            count+=1\n",
    "            \n",
    "            model.train()\n",
    "            train_model(model,1, train_loader, criterion, optimizer,writer,step)\n",
    "            step+=1\n",
    "            model.eval()\n",
    "            accuracy_new, loss = validation(model, val_loader, criterion)\n",
    "          \n",
    "            writer.add_scalar('Validation_accuracy',accuracy_new,global_step=step)\n",
    "            writer.add_scalar('Validation_loss',loss,global_step=step)\n",
    "            \n",
    "    \n",
    "        if(count>=patience and accuracy_new<accuracy_old): \n",
    "            step = step -patience\n",
    "            \n",
    "            break \n",
    "        \n",
    "            \n",
    "    \n",
    "    return step    \n",
    "            "
   ]
  },
  {
   "cell_type": "code",
   "execution_count": 27,
   "metadata": {},
   "outputs": [],
   "source": [
    "writer_4 = SummaryWriter(f'runs/MODEL_4')\n",
    "#criterion = nn.CrossEntropyLoss() "
   ]
  },
  {
   "cell_type": "code",
   "execution_count": 28,
   "metadata": {},
   "outputs": [],
   "source": [
    "PATH = \"model.py\""
   ]
  },
  {
   "cell_type": "code",
   "execution_count": 29,
   "metadata": {},
   "outputs": [],
   "source": [
    "#The model was the last created so I don't need to load the dict "
   ]
  },
  {
   "cell_type": "code",
   "execution_count": 32,
   "metadata": {},
   "outputs": [],
   "source": [
    "ep =early_stopping(PATH,5,model,train_loader,val_loader, criterion, optimizer,writer_4,80,patience=15)"
   ]
  },
  {
   "cell_type": "code",
   "execution_count": null,
   "metadata": {},
   "outputs": [],
   "source": []
  },
  {
   "cell_type": "code",
   "execution_count": null,
   "metadata": {},
   "outputs": [],
   "source": [
    "#Training for 39 epochs is the best in this case, but instead of retraining the model I load the saved model that \n",
    "#has been trained for 39 epochs \n"
   ]
  },
  {
   "cell_type": "code",
   "execution_count": 177,
   "metadata": {},
   "outputs": [
    {
     "data": {
      "text/plain": [
       "<All keys matched successfully>"
      ]
     },
     "execution_count": 177,
     "metadata": {},
     "output_type": "execute_result"
    }
   ],
   "source": [
    "new_model = BASE_CNN(1,15).to(device)\n",
    "check = torch.load(PATH)\n",
    "new_model.load_state_dict(check['parameters'])\n"
   ]
  },
  {
   "cell_type": "code",
   "execution_count": 178,
   "metadata": {},
   "outputs": [],
   "source": [
    "_ = new_model.eval()\n",
    "a, _=validation(new_model,val_loader,nn.CrossEntropyLoss())"
   ]
  },
  {
   "cell_type": "code",
   "execution_count": 179,
   "metadata": {},
   "outputs": [
    {
     "data": {
      "text/plain": [
       "35.11111111111111"
      ]
     },
     "execution_count": 179,
     "metadata": {},
     "output_type": "execute_result"
    }
   ],
   "source": [
    "a"
   ]
  },
  {
   "cell_type": "code",
   "execution_count": 180,
   "metadata": {},
   "outputs": [],
   "source": [
    "test_data = My_Dataset(root=\"test\",transform=transforms)\n",
    "test_loader = DataLoader(dataset = test_data, batch_size=len(test_data), shuffle=False )"
   ]
  },
  {
   "cell_type": "code",
   "execution_count": null,
   "metadata": {},
   "outputs": [],
   "source": []
  },
  {
   "cell_type": "code",
   "execution_count": 181,
   "metadata": {},
   "outputs": [
    {
     "data": {
      "text/plain": [
       "2985"
      ]
     },
     "execution_count": 181,
     "metadata": {},
     "output_type": "execute_result"
    }
   ],
   "source": [
    "len(test_data)"
   ]
  },
  {
   "cell_type": "code",
   "execution_count": 182,
   "metadata": {},
   "outputs": [
    {
     "data": {
      "text/plain": [
       "BASE_CNN(\n",
       "  (conv_layers): Sequential(\n",
       "    (0): Conv2d(1, 8, kernel_size=(3, 3), stride=(1, 1))\n",
       "    (1): ReLU()\n",
       "    (2): MaxPool2d(kernel_size=(2, 2), stride=(2, 2), padding=0, dilation=1, ceil_mode=False)\n",
       "    (3): Conv2d(8, 16, kernel_size=(3, 3), stride=(1, 1))\n",
       "    (4): ReLU()\n",
       "    (5): MaxPool2d(kernel_size=(2, 2), stride=(2, 2), padding=0, dilation=1, ceil_mode=False)\n",
       "    (6): Conv2d(16, 32, kernel_size=(3, 3), stride=(1, 1))\n",
       "    (7): ReLU()\n",
       "  )\n",
       "  (fcs): Sequential(\n",
       "    (0): Linear(in_features=4608, out_features=15, bias=True)\n",
       "  )\n",
       ")"
      ]
     },
     "execution_count": 182,
     "metadata": {},
     "output_type": "execute_result"
    }
   ],
   "source": [
    "device=\"cpu\"\n",
    "new_model.to(device)"
   ]
  },
  {
   "cell_type": "code",
   "execution_count": null,
   "metadata": {},
   "outputs": [],
   "source": []
  },
  {
   "cell_type": "code",
   "execution_count": 183,
   "metadata": {},
   "outputs": [],
   "source": [
    "#test accuracy \n",
    "a,_ = validation(new_model,test_loader,nn.CrossEntropyLoss())"
   ]
  },
  {
   "cell_type": "code",
   "execution_count": 185,
   "metadata": {},
   "outputs": [
    {
     "data": {
      "text/plain": [
       "29.279731993299833"
      ]
     },
     "execution_count": 185,
     "metadata": {},
     "output_type": "execute_result"
    }
   ],
   "source": [
    "a "
   ]
  },
  {
   "cell_type": "code",
   "execution_count": 186,
   "metadata": {},
   "outputs": [],
   "source": [
    "test_data, test_targets = next(iter(test_loader))"
   ]
  },
  {
   "cell_type": "code",
   "execution_count": 187,
   "metadata": {},
   "outputs": [],
   "source": [
    "with torch.no_grad():\n",
    "    scores = new_model(test_data)"
   ]
  },
  {
   "cell_type": "code",
   "execution_count": 188,
   "metadata": {},
   "outputs": [],
   "source": [
    "targets= test_targets.numpy()"
   ]
  },
  {
   "cell_type": "code",
   "execution_count": 189,
   "metadata": {},
   "outputs": [],
   "source": [
    "_,predictions= scores.max(1)\n",
    "predictions = predictions.numpy()"
   ]
  },
  {
   "cell_type": "code",
   "execution_count": 191,
   "metadata": {},
   "outputs": [],
   "source": [
    "cm = confusion_matrix(targets,predictions)"
   ]
  },
  {
   "cell_type": "code",
   "execution_count": 192,
   "metadata": {},
   "outputs": [],
   "source": [
    "normalized_cm = cm / cm.sum(axis=1)[:, np.newaxis]"
   ]
  },
  {
   "cell_type": "code",
   "execution_count": 193,
   "metadata": {},
   "outputs": [],
   "source": [
    "df_cm = pd.DataFrame(normalized_cm , index = [i for i in range(15)],\n",
    "                     columns = [i for i in range(15)])"
   ]
  },
  {
   "cell_type": "code",
   "execution_count": 194,
   "metadata": {},
   "outputs": [
    {
     "data": {
      "text/plain": [
       "<AxesSubplot:>"
      ]
     },
     "execution_count": 194,
     "metadata": {},
     "output_type": "execute_result"
    },
    {
     "data": {
      "image/png": "[encoded data removed]",
      "text/plain": [
       "<Figure size 864x504 with 2 Axes>"
      ]
     },
     "metadata": {
      "needs_background": "light"
     },
     "output_type": "display_data"
    }
   ],
   "source": [
    "plt.figure(figsize = (12,7))\n",
    "sn.heatmap(df_cm, annot=True)"
   ]
  },
  {
   "cell_type": "code",
   "execution_count": null,
   "metadata": {},
   "outputs": [],
   "source": []
  },
  {
   "cell_type": "code",
   "execution_count": null,
   "metadata": {},
   "outputs": [],
   "source": []
  },
  {
   "cell_type": "code",
   "execution_count": null,
   "metadata": {},
   "outputs": [],
   "source": []
  },
  {
   "cell_type": "code",
   "execution_count": null,
   "metadata": {},
   "outputs": [],
   "source": []
  }
 ],
 "metadata": {
  "kernelspec": {
   "display_name": "Python 3",
   "language": "python",
   "name": "python3"
  },
  "language_info": {
   "codemirror_mode": {
    "name": "ipython",
    "version": 3
   },
   "file_extension": ".py",
   "mimetype": "text/x-python",
   "name": "python",
   "nbconvert_exporter": "python",
   "pygments_lexer": "ipython3",
   "version": "3.8.10"
  }
 },
 "nbformat": 4,
 "nbformat_minor": 4
}
