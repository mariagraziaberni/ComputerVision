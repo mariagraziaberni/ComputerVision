{
 "cells": [
  {
   "cell_type": "code",
   "execution_count": 19,
   "metadata": {},
   "outputs": [],
   "source": [
    "import torch\n",
    "from utility import My_Dataset\n",
    "from utility import mean_and_std,get_params_and_gradients_norm,train_model\n",
    "from utility import validation, early_stopping\n",
    "from utility import Augmented_Dataset \n",
    "from utility import data_augmentation\n",
    "import torch.nn as nn \n",
    "import torch.optim as optim \n",
    "import torch.nn.functional as F \n",
    "from torch.utils.data import Dataset #\n",
    "from torch.utils.data import DataLoader,ConcatDataset\n",
    "import torchvision.datasets as datasets \n",
    "import torchvision.transforms as T\n",
    "from torch.utils.tensorboard import SummaryWriter \n",
    "import numpy as np #\n",
    "from skimage import io #\n",
    "from matplotlib import pyplot as plt"
   ]
  },
  {
   "cell_type": "code",
   "execution_count": 20,
   "metadata": {},
   "outputs": [],
   "source": [
    "import os \n",
    "from sklearn.metrics import confusion_matrix\n",
    "import seaborn as sn\n",
    "import pandas as pd \n",
    "from collections import deque "
   ]
  },
  {
   "cell_type": "code",
   "execution_count": 21,
   "metadata": {},
   "outputs": [],
   "source": [
    "ARCH = [8,'M',16,'M',32,0]   #architecture of the base network \n"
   ]
  },
  {
   "cell_type": "code",
   "execution_count": 22,
   "metadata": {},
   "outputs": [],
   "source": [
    "class BASE_CNN(nn.Module): \n",
    "    def __init__(self,in_channels = 1, num_classes = 15,architecture=ARCH,batch_norm=False): \n",
    "        super(BASE_CNN,self).__init__()\n",
    "        self.in_channels = in_channels \n",
    "    \n",
    "        self.batch_norm = batch_norm\n",
    "        self.conv_layers = self.create_conv_layers(architecture)\n",
    "        self.fcs = nn.Sequential(nn.Linear(32*12*12,num_classes))\n",
    "        \n",
    "        #self.batch_norm = batch_norm\n",
    "    def create_conv_layers(self, architecture): \n",
    "        layers = [] \n",
    "        in_channels = self.in_channels \n",
    "        for x in architecture: \n",
    "            if(type(x)==int and x!=0): \n",
    "                out_channels = x \n",
    "                \n",
    "                layers += [nn.Conv2d(in_channels=in_channels, out_channels = out_channels, kernel_size=(3,3),\n",
    "                           stride =1, padding = (0,0))]\n",
    "                in_channels = x\n",
    "                if (self.batch_norm==True):\n",
    "                    layers+=[nn.BatchNorm2d(out_channels)]\n",
    "                layers += [nn.ReLU()]\n",
    "                    \n",
    "            elif x =='M': \n",
    "                layers +=[nn.MaxPool2d(kernel_size= (2,2),stride = (2,2))]\n",
    "        return nn.Sequential(*layers)\n",
    "    def initialize_weight(self): \n",
    "        \n",
    "        for m in self.modules():\n",
    "            if isinstance(m,nn.Conv2d):\n",
    "                #nn.init.kaiming_uniform_(m.weight)\n",
    "                nn.init.normal_(m.weight, mean=0.0, std=0.01)\n",
    "                if m.bias is not None: \n",
    "                    nn.init.constant_(m.bias,0)\n",
    "            elif isinstance(m,nn.Linear): \n",
    "                #nn.init.kaiming_uniform_(m.weight)\n",
    "                nn.init.normal_(m.weight, mean=0.0, std=0.01)\n",
    "                nn.init.constant_(m.bias,0)\n",
    "    def forward(self,x): \n",
    "        x = self.conv_layers(x)\n",
    "        x = x.reshape(x.shape[0],-1)\n",
    "        x = self.fcs(x)\n",
    "        return x"
   ]
  },
  {
   "cell_type": "code",
   "execution_count": 23,
   "metadata": {},
   "outputs": [],
   "source": [
    "mean, std = mean_and_std()"
   ]
  },
  {
   "cell_type": "code",
   "execution_count": 24,
   "metadata": {},
   "outputs": [],
   "source": [
    "transforms = T.Compose([\n",
    "    T.ToTensor(),\n",
    "    T.Normalize([mean], [std]),\n",
    "])\n"
   ]
  },
  {
   "cell_type": "code",
   "execution_count": 25,
   "metadata": {},
   "outputs": [],
   "source": [
    "learning_rate = 0.01\n",
    "batch_size = 32 "
   ]
  },
  {
   "cell_type": "code",
   "execution_count": 26,
   "metadata": {},
   "outputs": [],
   "source": [
    "dataset = My_Dataset(root = \"train\", transform = transforms)\n",
    "train_number = int(len(dataset)*0.85)\n",
    "val_number = len(dataset)-train_number\n",
    "train_set, val_set = torch.utils.data.random_split(dataset,[train_number,val_number])\n",
    "train_loader = DataLoader(dataset = train_set, batch_size=batch_size, shuffle=True )\n",
    "val_loader = DataLoader(dataset = val_set, batch_size=64, shuffle=False )"
   ]
  },
  {
   "cell_type": "code",
   "execution_count": 27,
   "metadata": {},
   "outputs": [],
   "source": [
    "device =torch.device('cuda' if torch.cuda.is_available() else 'cpu')"
   ]
  },
  {
   "cell_type": "code",
   "execution_count": 28,
   "metadata": {},
   "outputs": [
    {
     "data": {
      "text/plain": [
       "device(type='cuda')"
      ]
     },
     "execution_count": 28,
     "metadata": {},
     "output_type": "execute_result"
    }
   ],
   "source": [
    "device"
   ]
  },
  {
   "cell_type": "code",
   "execution_count": 29,
   "metadata": {},
   "outputs": [],
   "source": [
    "model = BASE_CNN(1,15).to(device)\n",
    "model.initialize_weight() "
   ]
  },
  {
   "cell_type": "code",
   "execution_count": 30,
   "metadata": {},
   "outputs": [
    {
     "name": "stdout",
     "output_type": "stream",
     "text": [
      "BASE_CNN(\n",
      "  (conv_layers): Sequential(\n",
      "    (0): Conv2d(1, 8, kernel_size=(3, 3), stride=(1, 1))\n",
      "    (1): ReLU()\n",
      "    (2): MaxPool2d(kernel_size=(2, 2), stride=(2, 2), padding=0, dilation=1, ceil_mode=False)\n",
      "    (3): Conv2d(8, 16, kernel_size=(3, 3), stride=(1, 1))\n",
      "    (4): ReLU()\n",
      "    (5): MaxPool2d(kernel_size=(2, 2), stride=(2, 2), padding=0, dilation=1, ceil_mode=False)\n",
      "    (6): Conv2d(16, 32, kernel_size=(3, 3), stride=(1, 1))\n",
      "    (7): ReLU()\n",
      "  )\n",
      "  (fcs): Sequential(\n",
      "    (0): Linear(in_features=4608, out_features=15, bias=True)\n",
      "  )\n",
      ")\n"
     ]
    }
   ],
   "source": [
    "print(model)"
   ]
  },
  {
   "cell_type": "code",
   "execution_count": 31,
   "metadata": {},
   "outputs": [],
   "source": [
    "data, targets = next(iter(train_loader))"
   ]
  },
  {
   "cell_type": "code",
   "execution_count": 32,
   "metadata": {},
   "outputs": [],
   "source": [
    "criterion = nn.CrossEntropyLoss()\n",
    "optimizer = optim.Adam(model.parameters(),lr=learning_rate)"
   ]
  },
  {
   "cell_type": "code",
   "execution_count": 33,
   "metadata": {},
   "outputs": [],
   "source": [
    "def overfit_single_batch(data, targets, model, criterion, writer,num_epochs=3001):\n",
    "    model.train() \n",
    "    loss = 0\n",
    "    step = 0 \n",
    "    epoch=0\n",
    "    data = data.to(device)\n",
    "    targets = targets.to(device)\n",
    "    for epoch in range(num_epochs): \n",
    "        step+=1\n",
    "        if ((epoch)%100)==0: \n",
    "            print(f\"Epoch [{epoch+1}/{num_epochs}]\")\n",
    "            writer.add_histogram('conv_1',model.conv_layers[0].weight, epoch)\n",
    "            writer.add_histogram('bias_1',model.conv_layers[0].bias, epoch)\n",
    "            writer.add_histogram('conv_2',model.conv_layers[3].weight,epoch)\n",
    "            writer.add_histogram('bias_2',model.conv_layers[3].bias,epoch)\n",
    "            writer.add_histogram('conv_3',model.conv_layers[6].weight,epoch)\n",
    "            writer.add_histogram('bias_3',model.conv_layers[6].bias,epoch)\n",
    "            writer.add_histogram('fcs',model.fcs[0].weight,epoch)\n",
    "            writer.add_histogram('fcs_bias',model.fcs[0].bias,epoch)\n",
    "            print(loss)\n",
    "        \n",
    "        scores = model(data)\n",
    "        loss = criterion(scores, targets)\n",
    "        \n",
    "        optimizer.zero_grad() \n",
    "        loss.backward() \n",
    "        optimizer.step() \n",
    "        \n",
    "        _, pred = scores.max(1) \n",
    "        num_correct = (pred==targets).sum() \n",
    "        running_train_acc = float(num_correct)/(float(data.shape[0]))\n",
    "        writer.add_scalar('Training Loss',loss,global_step = step)\n",
    "        writer.add_scalar('Training_accuracy',running_train_acc,global_step=step)\n",
    "        #params_norm, gradients_norm = get_params_and_gradients_norm(model.named_parameters())\n",
    "        #trajectory[\"parameters\"].append(params_norm)\n",
    "        #trajectory[\"gradients\"].append(gradients_norm)\n",
    "        "
   ]
  },
  {
   "cell_type": "code",
   "execution_count": 34,
   "metadata": {},
   "outputs": [],
   "source": [
    "writer_2 = SummaryWriter(f'runs/MODEL_1Adam')"
   ]
  },
  {
   "cell_type": "code",
   "execution_count": 35,
   "metadata": {},
   "outputs": [
    {
     "name": "stdout",
     "output_type": "stream",
     "text": [
      "Epoch [1/3001]\n",
      "0\n",
      "Epoch [101/3001]\n",
      "tensor(2.7319e-05, device='cuda:0', grad_fn=<NllLossBackward0>)\n",
      "Epoch [201/3001]\n",
      "tensor(1.1268e-05, device='cuda:0', grad_fn=<NllLossBackward0>)\n",
      "Epoch [301/3001]\n",
      "tensor(2.0750e-06, device='cuda:0', grad_fn=<NllLossBackward0>)\n",
      "Epoch [401/3001]\n",
      "tensor(8.7916e-07, device='cuda:0', grad_fn=<NllLossBackward0>)\n",
      "Epoch [501/3001]\n",
      "tensor(6.2584e-07, device='cuda:0', grad_fn=<NllLossBackward0>)\n",
      "Epoch [601/3001]\n",
      "tensor(4.7311e-07, device='cuda:0', grad_fn=<NllLossBackward0>)\n",
      "Epoch [701/3001]\n",
      "tensor(3.7625e-07, device='cuda:0', grad_fn=<NllLossBackward0>)\n",
      "Epoch [801/3001]\n",
      "tensor(3.0175e-07, device='cuda:0', grad_fn=<NllLossBackward0>)\n",
      "Epoch [901/3001]\n",
      "tensor(2.4959e-07, device='cuda:0', grad_fn=<NllLossBackward0>)\n",
      "Epoch [1001/3001]\n",
      "tensor(2.1234e-07, device='cuda:0', grad_fn=<NllLossBackward0>)\n",
      "Epoch [1101/3001]\n",
      "tensor(1.8254e-07, device='cuda:0', grad_fn=<NllLossBackward0>)\n",
      "Epoch [1201/3001]\n",
      "tensor(1.5646e-07, device='cuda:0', grad_fn=<NllLossBackward0>)\n",
      "Epoch [1301/3001]\n",
      "tensor(1.3784e-07, device='cuda:0', grad_fn=<NllLossBackward0>)\n",
      "Epoch [1401/3001]\n",
      "tensor(1.2293e-07, device='cuda:0', grad_fn=<NllLossBackward0>)\n",
      "Epoch [1501/3001]\n",
      "tensor(1.0803e-07, device='cuda:0', grad_fn=<NllLossBackward0>)\n",
      "Epoch [1601/3001]\n",
      "tensor(9.6857e-08, device='cuda:0', grad_fn=<NllLossBackward0>)\n",
      "Epoch [1701/3001]\n",
      "tensor(8.5682e-08, device='cuda:0', grad_fn=<NllLossBackward0>)\n",
      "Epoch [1801/3001]\n",
      "tensor(7.8231e-08, device='cuda:0', grad_fn=<NllLossBackward0>)\n",
      "Epoch [1901/3001]\n",
      "tensor(7.0780e-08, device='cuda:0', grad_fn=<NllLossBackward0>)\n",
      "Epoch [2001/3001]\n",
      "tensor(6.3330e-08, device='cuda:0', grad_fn=<NllLossBackward0>)\n",
      "Epoch [2101/3001]\n",
      "tensor(5.9605e-08, device='cuda:0', grad_fn=<NllLossBackward0>)\n",
      "Epoch [2201/3001]\n",
      "tensor(5.5879e-08, device='cuda:0', grad_fn=<NllLossBackward0>)\n",
      "Epoch [2301/3001]\n",
      "tensor(4.8429e-08, device='cuda:0', grad_fn=<NllLossBackward0>)\n",
      "Epoch [2401/3001]\n",
      "tensor(4.4703e-08, device='cuda:0', grad_fn=<NllLossBackward0>)\n",
      "Epoch [2501/3001]\n",
      "tensor(4.0978e-08, device='cuda:0', grad_fn=<NllLossBackward0>)\n",
      "Epoch [2601/3001]\n",
      "tensor(4.0978e-08, device='cuda:0', grad_fn=<NllLossBackward0>)\n",
      "Epoch [2701/3001]\n",
      "tensor(3.7253e-08, device='cuda:0', grad_fn=<NllLossBackward0>)\n",
      "Epoch [2801/3001]\n",
      "tensor(3.3528e-08, device='cuda:0', grad_fn=<NllLossBackward0>)\n",
      "Epoch [2901/3001]\n",
      "tensor(2.9802e-08, device='cuda:0', grad_fn=<NllLossBackward0>)\n",
      "Epoch [3001/3001]\n",
      "tensor(2.9802e-08, device='cuda:0', grad_fn=<NllLossBackward0>)\n"
     ]
    }
   ],
   "source": [
    "overfit_single_batch(data,targets,model,criterion,writer_2)"
   ]
  },
  {
   "cell_type": "code",
   "execution_count": 44,
   "metadata": {},
   "outputs": [],
   "source": [
    "#criterion = nn.CrossEntropyLoss()\n",
    "#optimizer = optim.Adam(model.parameters(),lr=0.001)\n",
    "\n",
    "learning_rate = 0.001 \n",
    "model = BASE_CNN(1,15).to(device)\n",
    "model.initialize_weight() \n",
    "criterion = nn.CrossEntropyLoss() \n",
    "optimizer = optim.Adam(model.parameters(),lr = learning_rate)"
   ]
  },
  {
   "cell_type": "code",
   "execution_count": 45,
   "metadata": {},
   "outputs": [],
   "source": [
    "PATH = \"adamOptimizeer_model.py\""
   ]
  },
  {
   "cell_type": "code",
   "execution_count": 46,
   "metadata": {},
   "outputs": [],
   "source": [
    "writer_3= SummaryWriter(f'runs/MODEL_Adam_train')"
   ]
  },
  {
   "cell_type": "code",
   "execution_count": null,
   "metadata": {},
   "outputs": [],
   "source": []
  },
  {
   "cell_type": "code",
   "execution_count": 47,
   "metadata": {},
   "outputs": [],
   "source": [
    "ep =early_stopping(PATH,5,model,train_loader,val_loader, criterion, optimizer,writer_3,80,patience=15,device=device)"
   ]
  },
  {
   "cell_type": "code",
   "execution_count": 48,
   "metadata": {},
   "outputs": [
    {
     "data": {
      "text/plain": [
       "27"
      ]
     },
     "execution_count": 48,
     "metadata": {},
     "output_type": "execute_result"
    }
   ],
   "source": [
    "ep"
   ]
  },
  {
   "cell_type": "code",
   "execution_count": 49,
   "metadata": {},
   "outputs": [
    {
     "data": {
      "text/plain": [
       "<All keys matched successfully>"
      ]
     },
     "execution_count": 49,
     "metadata": {},
     "output_type": "execute_result"
    }
   ],
   "source": [
    "new_model = BASE_CNN(1,15) \n",
    "check = torch.load(PATH)\n",
    "new_model.load_state_dict(check['parameters'])\n"
   ]
  },
  {
   "cell_type": "code",
   "execution_count": 50,
   "metadata": {},
   "outputs": [],
   "source": [
    "_ = new_model.eval()"
   ]
  },
  {
   "cell_type": "code",
   "execution_count": 51,
   "metadata": {},
   "outputs": [
    {
     "name": "stdout",
     "output_type": "stream",
     "text": [
      "43.55555555555555\n"
     ]
    }
   ],
   "source": [
    "a,_ = validation(new_model,val_loader,nn.CrossEntropyLoss())\n",
    "print(a)"
   ]
  },
  {
   "cell_type": "code",
   "execution_count": 52,
   "metadata": {},
   "outputs": [],
   "source": [
    "test_dataset = My_Dataset(root = \"test\", transform = transforms)\n",
    "test_loader = DataLoader(dataset = test_dataset, batch_size=64, shuffle=False)\n"
   ]
  },
  {
   "cell_type": "code",
   "execution_count": 53,
   "metadata": {},
   "outputs": [],
   "source": [
    "test_accuracy,test_loss =validation(new_model,test_loader,nn.CrossEntropyLoss())"
   ]
  },
  {
   "cell_type": "code",
   "execution_count": 54,
   "metadata": {},
   "outputs": [
    {
     "data": {
      "text/plain": [
       "38.55946398659966"
      ]
     },
     "execution_count": 54,
     "metadata": {},
     "output_type": "execute_result"
    }
   ],
   "source": [
    "test_accuracy"
   ]
  },
  {
   "cell_type": "code",
   "execution_count": 8,
   "metadata": {},
   "outputs": [],
   "source": [
    "#Augmented data det "
   ]
  },
  {
   "cell_type": "code",
   "execution_count": 17,
   "metadata": {},
   "outputs": [],
   "source": [
    "#I crop all the image in the train dataset \n",
    "#with the parameter train = True only the data intended for the training will be modified \n"
   ]
  },
  {
   "cell_type": "code",
   "execution_count": 55,
   "metadata": {},
   "outputs": [],
   "source": [
    "train_dataset1 = Augmented_Dataset(root=\"train\",transform=transforms,augmentation=data_augmentation,flip=False,crop=True,train=True)"
   ]
  },
  {
   "cell_type": "code",
   "execution_count": 56,
   "metadata": {},
   "outputs": [],
   "source": [
    "#dataset without modifications \n",
    "train_dataset2 = Augmented_Dataset(root=\"train\",transform=transforms,train=True)"
   ]
  },
  {
   "cell_type": "code",
   "execution_count": 57,
   "metadata": {},
   "outputs": [],
   "source": [
    "#here I flip all the images \n",
    "train_dataset3 = Augmented_Dataset(root=\"train\",transform=transforms,augmentation=data_augmentation,flip=True,crop=False,train=True)"
   ]
  },
  {
   "cell_type": "code",
   "execution_count": 58,
   "metadata": {},
   "outputs": [],
   "source": [
    "#here first I flip and then I crip all the images \n",
    "train_dataset4 = Augmented_Dataset(root=\"train\",transform=transforms,augmentation=data_augmentation,flip=True,crop=True,train=True)"
   ]
  },
  {
   "cell_type": "code",
   "execution_count": 59,
   "metadata": {},
   "outputs": [],
   "source": [
    "augmented_dataset = ConcatDataset([train_dataset1,train_dataset2,train_dataset3,train_dataset4])"
   ]
  },
  {
   "cell_type": "code",
   "execution_count": 60,
   "metadata": {},
   "outputs": [],
   "source": [
    "val_dataset = Augmented_Dataset(root=\"train\",transform=transforms,val=True)"
   ]
  },
  {
   "cell_type": "code",
   "execution_count": 61,
   "metadata": {},
   "outputs": [],
   "source": [
    "augmented_train_loader = DataLoader(dataset = augmented_dataset, batch_size=32, shuffle=True )\n",
    "val_loader = DataLoader(dataset = val_dataset, batch_size= 64, shuffle=False )"
   ]
  },
  {
   "cell_type": "code",
   "execution_count": 62,
   "metadata": {},
   "outputs": [],
   "source": [
    "learning_rate = 0.001\n",
    "model = BASE_CNN(1,15).to(device)\n",
    "model.initialize_weight() \n",
    "criterion = nn.CrossEntropyLoss() \n",
    "optimizer = optim.Adam(model.parameters(),lr = learning_rate)"
   ]
  },
  {
   "cell_type": "code",
   "execution_count": 63,
   "metadata": {},
   "outputs": [],
   "source": [
    "PATH_MODEL_AUGMENTATION= \"model_augmentation.py\"\n",
    "writer_4 = SummaryWriter(f'runs/MODEL_WITH_AUGMENTATION')"
   ]
  },
  {
   "cell_type": "code",
   "execution_count": 64,
   "metadata": {},
   "outputs": [],
   "source": [
    "ep =early_stopping(PATH_MODEL_AUGMENTATION,5,model,augmented_train_loader,val_loader, criterion, optimizer,writer_4,80,patience=15,device=device)"
   ]
  },
  {
   "cell_type": "code",
   "execution_count": 65,
   "metadata": {},
   "outputs": [
    {
     "data": {
      "text/plain": [
       "<All keys matched successfully>"
      ]
     },
     "execution_count": 65,
     "metadata": {},
     "output_type": "execute_result"
    }
   ],
   "source": [
    "new_model = BASE_CNN(1,15) #I validate in the cpu \n",
    "check_model = torch.load(PATH_MODEL_AUGMENTATION)\n",
    "new_model.load_state_dict(check_model['parameters'])"
   ]
  },
  {
   "cell_type": "code",
   "execution_count": 46,
   "metadata": {},
   "outputs": [],
   "source": [
    "_ = new_model.eval()\n",
    "augmented_model_accuracy,augmented_model_loss = validation(new_model,val_loader,nn.CrossEntropyLoss())"
   ]
  },
  {
   "cell_type": "code",
   "execution_count": 47,
   "metadata": {},
   "outputs": [
    {
     "data": {
      "text/plain": [
       "50.66666666666667"
      ]
     },
     "execution_count": 47,
     "metadata": {},
     "output_type": "execute_result"
    }
   ],
   "source": [
    "augmented_model_accuracy"
   ]
  },
  {
   "cell_type": "code",
   "execution_count": 48,
   "metadata": {},
   "outputs": [],
   "source": [
    "#no modification is done on the test data and it is all used \n",
    "test_data = Augmented_Dataset(root = \"test\", transform = transforms)"
   ]
  },
  {
   "cell_type": "code",
   "execution_count": 49,
   "metadata": {},
   "outputs": [],
   "source": [
    "test_loader = DataLoader(dataset = test_data, batch_size=len(test_data), shuffle=False )"
   ]
  },
  {
   "cell_type": "code",
   "execution_count": 50,
   "metadata": {},
   "outputs": [],
   "source": [
    "test_accuracy_aug_model,_ = validation(new_model,test_loader,nn.CrossEntropyLoss())"
   ]
  },
  {
   "cell_type": "code",
   "execution_count": 52,
   "metadata": {},
   "outputs": [
    {
     "data": {
      "text/plain": [
       "47.93969849246231"
      ]
     },
     "execution_count": 52,
     "metadata": {},
     "output_type": "execute_result"
    }
   ],
   "source": [
    "test_accuracy_aug_model"
   ]
  },
  {
   "cell_type": "code",
   "execution_count": 54,
   "metadata": {},
   "outputs": [],
   "source": [
    "model = BASE_CNN(1, 15,batch_norm=True).to(device)\n",
    "model.initialize_weight() \n",
    "criterion = nn.CrossEntropyLoss() \n",
    "optimizer = optim.Adam(model.parameters(),lr = learning_rate)"
   ]
  },
  {
   "cell_type": "code",
   "execution_count": 57,
   "metadata": {},
   "outputs": [],
   "source": [
    "PATH_NORM = \"model_batch_norrm.py\"\n",
    "writer_5 = SummaryWriter(f'runs/MODEL_WITH_BATCH_NORM')"
   ]
  },
  {
   "cell_type": "code",
   "execution_count": 58,
   "metadata": {},
   "outputs": [],
   "source": [
    "ep =early_stopping(PATH_NORM,5,model,augmented_train_loader,val_loader, criterion, optimizer,writer_5,80,patience=15,device=device)"
   ]
  },
  {
   "cell_type": "code",
   "execution_count": 60,
   "metadata": {},
   "outputs": [
    {
     "data": {
      "text/plain": [
       "<All keys matched successfully>"
      ]
     },
     "execution_count": 60,
     "metadata": {},
     "output_type": "execute_result"
    }
   ],
   "source": [
    "new_model = BASE_CNN(1,15,batch_norm=True) #I validate in the cpu \n",
    "check_model_2 = torch.load(PATH_NORM)\n",
    "new_model.load_state_dict(check_model_2['parameters'])"
   ]
  },
  {
   "cell_type": "code",
   "execution_count": 61,
   "metadata": {},
   "outputs": [],
   "source": [
    "_ = new_model.eval()\n",
    "accuracy_batch,loss = validation(new_model,val_loader,nn.CrossEntropyLoss())"
   ]
  },
  {
   "cell_type": "code",
   "execution_count": 62,
   "metadata": {},
   "outputs": [
    {
     "data": {
      "text/plain": [
       "57.77777777777777"
      ]
     },
     "execution_count": 62,
     "metadata": {},
     "output_type": "execute_result"
    }
   ],
   "source": [
    "accuracy_batch"
   ]
  },
  {
   "cell_type": "code",
   "execution_count": 63,
   "metadata": {},
   "outputs": [],
   "source": [
    "test_accuracy_batch_model,_ = validation(new_model,test_loader,nn.CrossEntropyLoss())"
   ]
  },
  {
   "cell_type": "code",
   "execution_count": 65,
   "metadata": {},
   "outputs": [
    {
     "data": {
      "text/plain": [
       "57.45393634840871"
      ]
     },
     "execution_count": 65,
     "metadata": {},
     "output_type": "execute_result"
    }
   ],
   "source": [
    "test_accuracy_batch_model"
   ]
  },
  {
   "cell_type": "code",
   "execution_count": null,
   "metadata": {},
   "outputs": [],
   "source": [
    "ARCH = [16,'M',32,'M',64,0]\n",
    "from collections import deque \n",
    "#Now I try to change the size of the filters and to add more channels in the  convolutional layers \n",
    "#I also add padding of one "
   ]
  },
  {
   "cell_type": "code",
   "execution_count": null,
   "metadata": {},
   "outputs": [],
   "source": [
    "class CNN_2(nn.Module): \n",
    "    def __init__(self,in_channels = 1, num_classes = 15,architecture=ARCH,batch_norm=False): \n",
    "        super(CNN_2,self).__init__()\n",
    "        self.in_channels = in_channels \n",
    "        self.batch_norm = batch_norm\n",
    "        self.conv_layers = self.create_conv_layers(architecture)\n",
    "        self.fcs = nn.Sequential(nn.Linear(32*11*11,num_classes))\n",
    "        #self.batch_norm = batch_norm\n",
    "    def create_conv_layers(self, architecture): \n",
    "        kernel_size = deque([7,5,3])\n",
    "        \n",
    "        layers = [] \n",
    "        in_channels = self.in_channels \n",
    "        for x in architecture: \n",
    "            if(type(x)==int and x!=0): \n",
    "                out_channels = x \n",
    "                k=kernel_size.pop()\n",
    "                layers += [nn.Conv2d(in_channels=in_channels, out_channels = out_channels, kernel_size=(k,k),\n",
    "                           stride =1, padding = (1,1))]\n",
    "                in_channels = x\n",
    "                if (self.batch_norm==True):\n",
    "                    layers+=[nn.BatchNorm2d(out_channels)]\n",
    "                layers += [nn.ReLU()]\n",
    "                    \n",
    "            elif x =='M': \n",
    "                layers +=[nn.MaxPool2d(kernel_size= (2,2),stride = (2,2))]\n",
    "        return nn.Sequential(*layers)\n",
    "    def initialize_weight(self): \n",
    "        \n",
    "        for m in self.modules():\n",
    "            if isinstance(m,nn.Conv2d):\n",
    "                #nn.init.kaiming_uniform_(m.weight)\n",
    "                nn.init.normal_(m.weight, mean=0.0, std=0.01)\n",
    "                if m.bias is not None: \n",
    "                    nn.init.constant_(m.bias,0)\n",
    "            elif isinstance(m,nn.Linear): \n",
    "                #nn.init.kaiming_uniform_(m.weight)\n",
    "                nn.init.normal_(m.weight, mean=0.0, std=0.01)\n",
    "                nn.init.constant_(m.bias,0)\n",
    "    def forward(self,x): \n",
    "        x = self.conv_layers(x)\n",
    "        x = x.reshape(x.shape[0],-1)\n",
    "        x = self.fcs(x)\n",
    "        return x"
   ]
  },
  {
   "cell_type": "code",
   "execution_count": 89,
   "metadata": {},
   "outputs": [],
   "source": [
    "model = CNN_2(1,15,batch_norm=True).to(device)\n",
    "model.initialize_weight() \n",
    "criterion = nn.CrossEntropyLoss() \n",
    "optimizer = optim.Adam(model.parameters(),lr = learning_rate)\n",
    "writer_6 = SummaryWriter(f'runs/MODEL_CNN_2')\n",
    "PATH_MORE_LAYERS= \"model_layers_norrm.py\""
   ]
  },
  {
   "cell_type": "code",
   "execution_count": 90,
   "metadata": {},
   "outputs": [],
   "source": [
    "ep =early_stopping(PATH_MORE_LAYERS,5,model,augmented_train_loader,val_loader, criterion, optimizer,writer_6,80,patience=15,device=device)"
   ]
  },
  {
   "cell_type": "code",
   "execution_count": 91,
   "metadata": {},
   "outputs": [
    {
     "data": {
      "text/plain": [
       "<All keys matched successfully>"
      ]
     },
     "execution_count": 91,
     "metadata": {},
     "output_type": "execute_result"
    }
   ],
   "source": [
    "new_model = CNN_2(1,15,batch_norm=True)\n",
    "check_model_3 = torch.load(PATH_MORE_LAYERS)\n",
    "new_model.load_state_dict(check_model_3['parameters'])"
   ]
  },
  {
   "cell_type": "code",
   "execution_count": 92,
   "metadata": {},
   "outputs": [],
   "source": [
    "_ = new_model.eval()\n",
    "accuracy,loss = validation(new_model,test_loader,nn.CrossEntropyLoss())"
   ]
  },
  {
   "cell_type": "code",
   "execution_count": 93,
   "metadata": {},
   "outputs": [
    {
     "name": "stdout",
     "output_type": "stream",
     "text": [
      "61.87604690117253\n"
     ]
    }
   ],
   "source": [
    "print(accuracy) "
   ]
  },
  {
   "cell_type": "code",
   "execution_count": 94,
   "metadata": {},
   "outputs": [],
   "source": [
    "ARCH = [32,'M',64,'M',128,0]\n",
    "model = CNN_2(1,15,batch_norm=True).to(device)\n",
    "model.initialize_weight() \n",
    "criterion = nn.CrossEntropyLoss() \n",
    "optimizer = optim.Adam(model.parameters(),lr = learning_rate)\n",
    "writer_7 = SummaryWriter(f'runs/MODEL_CNN_3')\n",
    "PATH_MORE_LAYERS_2= \"model_layers_norrm_22.py\""
   ]
  },
  {
   "cell_type": "code",
   "execution_count": 95,
   "metadata": {},
   "outputs": [],
   "source": [
    "ep =early_stopping(PATH_MORE_LAYERS_2,5,model,augmented_train_loader,val_loader, criterion, optimizer,writer_7,80,patience=15,device=device)"
   ]
  },
  {
   "cell_type": "code",
   "execution_count": 96,
   "metadata": {},
   "outputs": [
    {
     "data": {
      "text/plain": [
       "<All keys matched successfully>"
      ]
     },
     "execution_count": 96,
     "metadata": {},
     "output_type": "execute_result"
    }
   ],
   "source": [
    "new_model = CNN_2(1,15,batch_norm=True)\n",
    "check_model_4 = torch.load(PATH_MORE_LAYERS_2)\n",
    "new_model.load_state_dict(check_model_4['parameters'])"
   ]
  },
  {
   "cell_type": "code",
   "execution_count": 97,
   "metadata": {},
   "outputs": [],
   "source": [
    "_ = new_model.eval()\n",
    "accuracy,loss = validation(new_model,test_loader,nn.CrossEntropyLoss())"
   ]
  },
  {
   "cell_type": "code",
   "execution_count": 98,
   "metadata": {},
   "outputs": [
    {
     "data": {
      "text/plain": [
       "60.77051926298157"
      ]
     },
     "execution_count": 98,
     "metadata": {},
     "output_type": "execute_result"
    }
   ],
   "source": [
    "accuracy"
   ]
  },
  {
   "cell_type": "code",
   "execution_count": 108,
   "metadata": {},
   "outputs": [],
   "source": [
    "#I add dorpout \n",
    "ARCH = [16,'M',32,'M',64,0]\n",
    "class CNN_4(nn.Module): \n",
    "    def __init__(self,in_channels = 1, num_classes = 15,architecture=ARCH,batch_norm=False,p=0.2): \n",
    "        super(CNN_4,self).__init__()\n",
    "        self.in_channels = in_channels \n",
    "        self.p = p\n",
    "        self.batch_norm = batch_norm\n",
    "        self.conv_layers = self.create_conv_layers(architecture)\n",
    "        self.fcs = nn.Sequential(nn.Linear(64*11*11,num_classes))\n",
    "        #self.batch_norm = batch_norm\n",
    "    def create_conv_layers(self, architecture): \n",
    "        kernel_size = deque([7,5,3])\n",
    "        layers = [] \n",
    "        in_channels = self.in_channels \n",
    "        for x in architecture: \n",
    "            if(type(x)==int and x!=0): \n",
    "                out_channels = x \n",
    "                k=kernel_size.pop()\n",
    "                layers += [nn.Conv2d(in_channels=in_channels, out_channels = out_channels, kernel_size=(k,k),\n",
    "                           stride =1, padding = (1,1))]\n",
    "                in_channels = x\n",
    "                if (self.batch_norm==True):\n",
    "                    layers+=[nn.BatchNorm2d(out_channels)]\n",
    "                layers += [nn.ReLU()]\n",
    "                layers +=[nn.Dropout(p=self.p)]\n",
    "                    \n",
    "            elif x =='M': \n",
    "                layers +=[nn.MaxPool2d(kernel_size= (2,2),stride = (2,2))]\n",
    "        return nn.Sequential(*layers)\n",
    "    def initialize_weight(self): \n",
    "        \n",
    "        for m in self.modules():\n",
    "            if isinstance(m,nn.Conv2d):\n",
    "                #nn.init.kaiming_uniform_(m.weight)\n",
    "                nn.init.normal_(m.weight, mean=0.0, std=0.01)\n",
    "                if m.bias is not None: \n",
    "                    nn.init.constant_(m.bias,0)\n",
    "            elif isinstance(m,nn.Linear): \n",
    "                #nn.init.kaiming_uniform_(m.weight)\n",
    "                nn.init.normal_(m.weight, mean=0.0, std=0.01)\n",
    "                nn.init.constant_(m.bias,0)\n",
    "    def forward(self,x): \n",
    "        x = self.conv_layers(x)\n",
    "        x = x.reshape(x.shape[0],-1)\n",
    "        x = self.fcs(x)\n",
    "        return x"
   ]
  },
  {
   "cell_type": "code",
   "execution_count": 115,
   "metadata": {},
   "outputs": [],
   "source": [
    "model = CNN_4(1,15,batch_norm=True,p=0.1).to(device)"
   ]
  },
  {
   "cell_type": "code",
   "execution_count": 116,
   "metadata": {},
   "outputs": [],
   "source": [
    "model.initialize_weight() \n",
    "criterion = nn.CrossEntropyLoss() \n",
    "optimizer = optim.Adam(model.parameters(),lr = learning_rate)\n",
    "\n",
    "writer_8 = SummaryWriter(f'runs/MODEL_CNN_4')\n",
    "PATH_DROPOUT= \"model_dropout.py\""
   ]
  },
  {
   "cell_type": "code",
   "execution_count": 117,
   "metadata": {},
   "outputs": [],
   "source": [
    "ep =early_stopping(PATH_DROPOUT,5,model,augmented_train_loader,val_loader, criterion, optimizer,writer_8,80,patience=15,device=device)"
   ]
  },
  {
   "cell_type": "code",
   "execution_count": 118,
   "metadata": {},
   "outputs": [
    {
     "data": {
      "text/plain": [
       "<All keys matched successfully>"
      ]
     },
     "execution_count": 118,
     "metadata": {},
     "output_type": "execute_result"
    }
   ],
   "source": [
    "new_model = CNN_4(1,15,batch_norm=True)\n",
    "check_model_5 = torch.load(PATH_DROPOUT)\n",
    "new_model.load_state_dict(check_model_5['parameters'])"
   ]
  },
  {
   "cell_type": "code",
   "execution_count": 119,
   "metadata": {},
   "outputs": [],
   "source": [
    "_ = new_model.eval()\n",
    "accuracy,loss = validation(new_model,test_loader,nn.CrossEntropyLoss())"
   ]
  },
  {
   "cell_type": "code",
   "execution_count": 120,
   "metadata": {},
   "outputs": [
    {
     "data": {
      "text/plain": [
       "62.378559463986605"
      ]
     },
     "execution_count": 120,
     "metadata": {},
     "output_type": "execute_result"
    }
   ],
   "source": [
    "accuracy"
   ]
  },
  {
   "cell_type": "code",
   "execution_count": 121,
   "metadata": {},
   "outputs": [],
   "source": [
    "#adding more layers \n"
   ]
  },
  {
   "cell_type": "code",
   "execution_count": 19,
   "metadata": {},
   "outputs": [],
   "source": [
    "ARCH = [16,'M',32,'M',64,'M',128,0]\n",
    "class CNN_5(nn.Module): \n",
    "    def __init__(self,in_channels = 1, num_classes = 15,architecture=ARCH,batch_norm=False,p=0.2): \n",
    "        super(CNN_5,self).__init__()\n",
    "        self.in_channels = in_channels \n",
    "        self.p = p\n",
    "        self.batch_norm = batch_norm\n",
    "        self.conv_layers = self.create_conv_layers(architecture)\n",
    "        self.fcs = nn.Sequential(nn.Linear(128*8*8,num_classes))\n",
    "        #self.batch_norm = batch_norm\n",
    "    def create_conv_layers(self, architecture): \n",
    "        kernel_size = deque([3,5,5,3])\n",
    "        padding_size= deque([1,2,2,1])\n",
    "        layers = [] \n",
    "        in_channels = self.in_channels \n",
    "        for x in architecture: \n",
    "            if(type(x)==int and x!=0): \n",
    "                out_channels = x \n",
    "                k=kernel_size.pop()\n",
    "                padd = padding_size.pop()\n",
    "                layers += [nn.Conv2d(in_channels=in_channels, out_channels = out_channels, kernel_size=(k,k),\n",
    "                           stride =1, padding =(padd,padd))]\n",
    "                in_channels = x\n",
    "                if (self.batch_norm==True):\n",
    "                    layers+=[nn.BatchNorm2d(out_channels)]\n",
    "                layers += [nn.ReLU()]\n",
    "                layers +=[nn.Dropout(p=self.p)]\n",
    "                    \n",
    "            elif x =='M': \n",
    "                layers +=[nn.MaxPool2d(kernel_size= (2,2),stride = (2,2))]\n",
    "        return nn.Sequential(*layers)\n",
    "    def initialize_weight(self): \n",
    "        \n",
    "        for m in self.modules():\n",
    "            if isinstance(m,nn.Conv2d):\n",
    "                #nn.init.kaiming_uniform_(m.weight)\n",
    "                nn.init.normal_(m.weight, mean=0.0, std=0.01)\n",
    "                if m.bias is not None: \n",
    "                    nn.init.constant_(m.bias,0)\n",
    "            elif isinstance(m,nn.Linear): \n",
    "                #nn.init.kaiming_uniform_(m.weight)\n",
    "                nn.init.normal_(m.weight, mean=0.0, std=0.01)\n",
    "                nn.init.constant_(m.bias,0)\n",
    "    def forward(self,x): \n",
    "        x = self.conv_layers(x)\n",
    "        x = x.reshape(x.shape[0],-1)\n",
    "        x = self.fcs(x)\n",
    "        return x"
   ]
  },
  {
   "cell_type": "code",
   "execution_count": 182,
   "metadata": {},
   "outputs": [],
   "source": [
    "model = CNN_5(1,15,batch_norm=True,p=0.1).to(device)"
   ]
  },
  {
   "cell_type": "code",
   "execution_count": 183,
   "metadata": {},
   "outputs": [
    {
     "name": "stdout",
     "output_type": "stream",
     "text": [
      "CNN_5(\n",
      "  (conv_layers): Sequential(\n",
      "    (0): Conv2d(1, 16, kernel_size=(3, 3), stride=(1, 1), padding=(1, 1))\n",
      "    (1): BatchNorm2d(16, eps=1e-05, momentum=0.1, affine=True, track_running_stats=True)\n",
      "    (2): ReLU()\n",
      "    (3): Dropout(p=0.1, inplace=False)\n",
      "    (4): MaxPool2d(kernel_size=(2, 2), stride=(2, 2), padding=0, dilation=1, ceil_mode=False)\n",
      "    (5): Conv2d(16, 32, kernel_size=(5, 5), stride=(1, 1), padding=(2, 2))\n",
      "    (6): BatchNorm2d(32, eps=1e-05, momentum=0.1, affine=True, track_running_stats=True)\n",
      "    (7): ReLU()\n",
      "    (8): Dropout(p=0.1, inplace=False)\n",
      "    (9): MaxPool2d(kernel_size=(2, 2), stride=(2, 2), padding=0, dilation=1, ceil_mode=False)\n",
      "    (10): Conv2d(32, 64, kernel_size=(5, 5), stride=(1, 1), padding=(2, 2))\n",
      "    (11): BatchNorm2d(64, eps=1e-05, momentum=0.1, affine=True, track_running_stats=True)\n",
      "    (12): ReLU()\n",
      "    (13): Dropout(p=0.1, inplace=False)\n",
      "    (14): MaxPool2d(kernel_size=(2, 2), stride=(2, 2), padding=0, dilation=1, ceil_mode=False)\n",
      "    (15): Conv2d(64, 128, kernel_size=(3, 3), stride=(1, 1), padding=(1, 1))\n",
      "    (16): BatchNorm2d(128, eps=1e-05, momentum=0.1, affine=True, track_running_stats=True)\n",
      "    (17): ReLU()\n",
      "    (18): Dropout(p=0.1, inplace=False)\n",
      "  )\n",
      "  (fcs): Sequential(\n",
      "    (0): Linear(in_features=8192, out_features=15, bias=True)\n",
      "  )\n",
      ")\n"
     ]
    }
   ],
   "source": [
    "print(model)"
   ]
  },
  {
   "cell_type": "code",
   "execution_count": null,
   "metadata": {},
   "outputs": [],
   "source": []
  },
  {
   "cell_type": "code",
   "execution_count": 145,
   "metadata": {},
   "outputs": [],
   "source": [
    "model.initialize_weight() \n",
    "criterion = nn.CrossEntropyLoss() \n",
    "optimizer = optim.Adam(model.parameters(),lr = learning_rate)\n",
    "\n",
    "writer_9 = SummaryWriter(f'runs/MODEL_CNN_5')\n",
    "PATH_CNN_5= \"model_CNN_5.py\""
   ]
  },
  {
   "cell_type": "code",
   "execution_count": 146,
   "metadata": {},
   "outputs": [],
   "source": [
    "ep =early_stopping(PATH_CNN_5,5,model,augmented_train_loader,val_loader, criterion, optimizer,writer_9,80,patience=15,device=device)"
   ]
  },
  {
   "cell_type": "code",
   "execution_count": 147,
   "metadata": {},
   "outputs": [
    {
     "data": {
      "text/plain": [
       "<All keys matched successfully>"
      ]
     },
     "execution_count": 147,
     "metadata": {},
     "output_type": "execute_result"
    }
   ],
   "source": [
    "new_model = CNN_5(1,15,batch_norm=True,p=0.1)\n",
    "check_model_6 = torch.load(PATH_CNN_5)\n",
    "new_model.load_state_dict(check_model_6['parameters'])"
   ]
  },
  {
   "cell_type": "code",
   "execution_count": 148,
   "metadata": {},
   "outputs": [],
   "source": [
    "_ = new_model.eval()\n",
    "accuracy,loss = validation(new_model,test_loader,nn.CrossEntropyLoss())\n"
   ]
  },
  {
   "cell_type": "code",
   "execution_count": 151,
   "metadata": {},
   "outputs": [
    {
     "name": "stdout",
     "output_type": "stream",
     "text": [
      "65.12562814070351\n"
     ]
    }
   ],
   "source": [
    "print(accuracy)"
   ]
  },
  {
   "cell_type": "code",
   "execution_count": 152,
   "metadata": {},
   "outputs": [],
   "source": [
    "#confusion matrix "
   ]
  },
  {
   "cell_type": "code",
   "execution_count": 153,
   "metadata": {},
   "outputs": [],
   "source": [
    "test_data, test_targets = next(iter(test_loader))"
   ]
  },
  {
   "cell_type": "code",
   "execution_count": 154,
   "metadata": {},
   "outputs": [],
   "source": [
    "with torch.no_grad():\n",
    "    scores = new_model(test_data)"
   ]
  },
  {
   "cell_type": "code",
   "execution_count": 157,
   "metadata": {},
   "outputs": [],
   "source": [
    "targets= test_targets.numpy()\n",
    "_,predictions= scores.max(1)\n",
    "predictions = predictions.numpy()\n",
    "cm = confusion_matrix(targets,predictions)"
   ]
  },
  {
   "cell_type": "code",
   "execution_count": 158,
   "metadata": {},
   "outputs": [],
   "source": [
    "normalized_cm = cm / cm.sum(axis=1)[:, np.newaxis]"
   ]
  },
  {
   "cell_type": "code",
   "execution_count": 159,
   "metadata": {},
   "outputs": [],
   "source": [
    "df_cm = pd.DataFrame(normalized_cm , index = [i for i in range(15)],\n",
    "                     columns = [i for i in range(15)])"
   ]
  },
  {
   "cell_type": "code",
   "execution_count": 160,
   "metadata": {},
   "outputs": [
    {
     "data": {
      "text/plain": [
       "<AxesSubplot:>"
      ]
     },
     "execution_count": 160,
     "metadata": {},
     "output_type": "execute_result"
    },
    {
     "data": {
      "image/png": "[encoded data removed]",
      "text/plain": [
       "<Figure size 864x504 with 2 Axes>"
      ]
     },
     "metadata": {
      "needs_background": "light"
     },
     "output_type": "display_data"
    }
   ],
   "source": [
    "plt.figure(figsize = (12,7))\n",
    "sn.heatmap(df_cm, annot=True)"
   ]
  },
  {
   "cell_type": "code",
   "execution_count": null,
   "metadata": {},
   "outputs": [],
   "source": []
  },
  {
   "cell_type": "code",
   "execution_count": 150,
   "metadata": {},
   "outputs": [],
   "source": [
    "#So I use this model for the ensamble of networks, playing with the value of dropout "
   ]
  },
  {
   "cell_type": "code",
   "execution_count": 161,
   "metadata": {},
   "outputs": [],
   "source": [
    "models = [] "
   ]
  },
  {
   "cell_type": "code",
   "execution_count": 162,
   "metadata": {},
   "outputs": [],
   "source": [
    "models.append(new_model)"
   ]
  },
  {
   "cell_type": "code",
   "execution_count": 165,
   "metadata": {},
   "outputs": [],
   "source": []
  },
  {
   "cell_type": "code",
   "execution_count": null,
   "metadata": {},
   "outputs": [],
   "source": [
    "#model = CNN_5(1,15,batch_norm=True,p=0.1).to(device)"
   ]
  },
  {
   "cell_type": "code",
   "execution_count": 166,
   "metadata": {},
   "outputs": [],
   "source": [
    "def ensemble_of_networks(train_loader,val_loader,number=5,p=0.2): \n",
    "    models = []\n",
    "    prob = p\n",
    "    for i in range(number): \n",
    "        writer = SummaryWriter(f'runs/ENSAMBLE'+str(i))\n",
    "        model = CNN_5(1,15,batch_norm=True,p=prob).to(device)\n",
    "        model.initialize_weight() \n",
    "        criterion = nn.CrossEntropyLoss() \n",
    "        optimizer = optim.Adam(model.parameters(),lr = learning_rate)\n",
    "        PATH_ENSAMBLE = \"model_ensamble.py\"\n",
    "        _ = ep =early_stopping(PATH_ENSAMBLE,5,model,train_loader,val_loader, criterion, optimizer,writer,80,patience=15,device=device)\n",
    "        model = CNN_5(1,15,batch_norm=True,p=prob)\n",
    "        check = torch.load(PATH_ENSAMBLE)\n",
    "        model.load_state_dict(check['parameters'])\n",
    "        models.append(model)\n",
    "    return models "
   ]
  },
  {
   "cell_type": "code",
   "execution_count": 22,
   "metadata": {},
   "outputs": [],
   "source": [
    "models = ensemble_of_networks(augmented_train_loader,val_loader)"
   ]
  },
  {
   "cell_type": "code",
   "execution_count": 23,
   "metadata": {},
   "outputs": [],
   "source": [
    "data,targets = next(iter(val_loader))"
   ]
  },
  {
   "cell_type": "code",
   "execution_count": 162,
   "metadata": {},
   "outputs": [],
   "source": [
    "def ensemble_accuracy(models,val_loader,device=\"cpu\"): \n",
    "    for i in range(len(models)): \n",
    "        _ = models[i].eval()\n",
    "    num_correct = 0\n",
    "    num_samples = 0\n",
    "    with torch.no_grad():\n",
    "        for _,(data,targets) in enumerate(val_loader): \n",
    "            scores = []\n",
    "            for i in range(len(models)): \n",
    "                s = models[i](data)\n",
    "                s = s.numpy()\n",
    "                scores.append(s)\n",
    "            scores = np.asarray(scores) \n",
    "            means = np.mean(scores,axis = 0)\n",
    "            predictions = np.argmax(means,axis=1)\n",
    "            predictions=torch.from_numpy(predictions)\n",
    "            num_correct += (predictions==targets).sum() \n",
    "            num_samples += predictions.size(0) \n",
    "     \n",
    "    accuracy = float(num_correct)/float(num_samples)*100\n",
    "    return accuracy"
   ]
  },
  {
   "cell_type": "code",
   "execution_count": 153,
   "metadata": {},
   "outputs": [],
   "source": [
    "accuracy_ensamble = ensemble_accuracy(models,val_loader)"
   ]
  },
  {
   "cell_type": "code",
   "execution_count": 154,
   "metadata": {},
   "outputs": [
    {
     "data": {
      "text/plain": [
       "70.66666666666667"
      ]
     },
     "execution_count": 154,
     "metadata": {},
     "output_type": "execute_result"
    }
   ],
   "source": [
    "accuracy_ensamble"
   ]
  },
  {
   "cell_type": "code",
   "execution_count": 155,
   "metadata": {},
   "outputs": [],
   "source": [
    "accuracy_ensamblep2 = accuracy_ensamble"
   ]
  },
  {
   "cell_type": "code",
   "execution_count": 157,
   "metadata": {},
   "outputs": [],
   "source": [
    "test_accuracy_ensemble = ensemble_accuracy(models,test_loader)"
   ]
  },
  {
   "cell_type": "code",
   "execution_count": 158,
   "metadata": {},
   "outputs": [
    {
     "data": {
      "text/plain": [
       "63.417085427135675"
      ]
     },
     "execution_count": 158,
     "metadata": {},
     "output_type": "execute_result"
    }
   ],
   "source": [
    "test_accuracy_ensemble\n"
   ]
  },
  {
   "cell_type": "code",
   "execution_count": 159,
   "metadata": {},
   "outputs": [],
   "source": [
    "#I grow the value of the parameter p of fropout "
   ]
  },
  {
   "cell_type": "code",
   "execution_count": 160,
   "metadata": {},
   "outputs": [],
   "source": [
    "models2 = ensemble_of_networks(train_loader,val_loader,number=5,p=0.4)"
   ]
  },
  {
   "cell_type": "code",
   "execution_count": 167,
   "metadata": {},
   "outputs": [],
   "source": [
    "accuracy_ensemble_p4 = ensemble_accuracy(models2,test_loader)"
   ]
  },
  {
   "cell_type": "code",
   "execution_count": 165,
   "metadata": {},
   "outputs": [
    {
     "data": {
      "text/plain": [
       "42.47906197654942"
      ]
     },
     "execution_count": 165,
     "metadata": {},
     "output_type": "execute_result"
    }
   ],
   "source": [
    "accuracy_ensamble_p4"
   ]
  },
  {
   "cell_type": "code",
   "execution_count": 168,
   "metadata": {},
   "outputs": [],
   "source": [
    "models2 = ensemble_of_networks(train_loader,val_loader,number=5,p=0.1)"
   ]
  },
  {
   "cell_type": "code",
   "execution_count": 172,
   "metadata": {},
   "outputs": [],
   "source": [
    "test_accuracy_ensemble = ensemble_accuracy(models2,test_loader)"
   ]
  },
  {
   "cell_type": "code",
   "execution_count": 173,
   "metadata": {},
   "outputs": [
    {
     "data": {
      "text/plain": [
       "54.438860971524285"
      ]
     },
     "execution_count": 173,
     "metadata": {},
     "output_type": "execute_result"
    }
   ],
   "source": [
    "test_accuracy_ensemble"
   ]
  },
  {
   "cell_type": "code",
   "execution_count": null,
   "metadata": {},
   "outputs": [],
   "source": []
  },
  {
   "cell_type": "code",
   "execution_count": null,
   "metadata": {},
   "outputs": [],
   "source": [
    "#accuracy_ensamble_10 = ensemble_accuracy(models,val_loader)"
   ]
  },
  {
   "cell_type": "code",
   "execution_count": 174,
   "metadata": {},
   "outputs": [],
   "source": [
    "models_10 = ensemble_of_networks(train_loader,val_loader,number=10,p=0.3)"
   ]
  },
  {
   "cell_type": "code",
   "execution_count": 175,
   "metadata": {},
   "outputs": [],
   "source": [
    "test_accuracy_ensemble_10_3 = ensemble_accuracy(models_10,test_loader)"
   ]
  },
  {
   "cell_type": "code",
   "execution_count": 176,
   "metadata": {},
   "outputs": [
    {
     "data": {
      "text/plain": [
       "53.768844221105525"
      ]
     },
     "execution_count": 176,
     "metadata": {},
     "output_type": "execute_result"
    }
   ],
   "source": [
    "test_accuracy_ensemble_10_3"
   ]
  },
  {
   "cell_type": "code",
   "execution_count": 177,
   "metadata": {},
   "outputs": [],
   "source": [
    "models_10 = ensemble_of_networks(train_loader,val_loader,number=10,p=0.2)"
   ]
  },
  {
   "cell_type": "code",
   "execution_count": 178,
   "metadata": {},
   "outputs": [],
   "source": [
    "test_accuracy_ensemble_10_2 = ensemble_accuracy(models_10,test_loader)"
   ]
  },
  {
   "cell_type": "code",
   "execution_count": 181,
   "metadata": {},
   "outputs": [
    {
     "data": {
      "text/plain": [
       "55.812395309882746"
      ]
     },
     "execution_count": 181,
     "metadata": {},
     "output_type": "execute_result"
    }
   ],
   "source": [
    "test_accuracy_ensemble_10_2"
   ]
  },
  {
   "cell_type": "code",
   "execution_count": null,
   "metadata": {},
   "outputs": [],
   "source": []
  },
  {
   "cell_type": "code",
   "execution_count": null,
   "metadata": {},
   "outputs": [],
   "source": []
  },
  {
   "cell_type": "code",
   "execution_count": null,
   "metadata": {},
   "outputs": [],
   "source": []
  },
  {
   "cell_type": "code",
   "execution_count": null,
   "metadata": {},
   "outputs": [],
   "source": []
  },
  {
   "cell_type": "code",
   "execution_count": null,
   "metadata": {},
   "outputs": [],
   "source": []
  }
 ],
 "metadata": {
  "kernelspec": {
   "display_name": "Python 3",
   "language": "python",
   "name": "python3"
  },
  "language_info": {
   "codemirror_mode": {
    "name": "ipython",
    "version": 3
   },
   "file_extension": ".py",
   "mimetype": "text/x-python",
   "name": "python",
   "nbconvert_exporter": "python",
   "pygments_lexer": "ipython3",
   "version": "3.8.10"
  }
 },
 "nbformat": 4,
 "nbformat_minor": 4
}
